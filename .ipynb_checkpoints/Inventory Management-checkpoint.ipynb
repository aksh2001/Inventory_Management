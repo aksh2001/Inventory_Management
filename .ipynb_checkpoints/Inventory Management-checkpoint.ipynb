{
 "cells": [
  {
   "cell_type": "markdown",
   "id": "56cacdf5",
   "metadata": {},
   "source": [
    "# Product Details\n",
    "1. Product ID\n",
    "2. Name of Product\n",
    "3. Price of Product\n",
    "4. Quantity of Product\n"
   ]
  },
  {
   "cell_type": "code",
   "execution_count": 13,
   "id": "b854b248",
   "metadata": {},
   "outputs": [],
   "source": [
    "#Importing libraries\n",
    "import time  "
   ]
  },
  {
   "cell_type": "code",
   "execution_count": 14,
   "id": "6eea14ef",
   "metadata": {},
   "outputs": [],
   "source": [
    "#Reading the file\n",
    "fd = open(\"Inventory.txt\",'r')\n",
    "txt  = fd.read()"
   ]
  },
  {
   "cell_type": "code",
   "execution_count": 23,
   "id": "da8d444d",
   "metadata": {},
   "outputs": [
    {
     "name": "stdout",
     "output_type": "stream",
     "text": [
      "['1', '5 Star', '5', '100']\n",
      "['2', 'Milky Bar', '5', '200']\n",
      "['3', 'Cake', '300', '10']\n",
      "['4', 'Candy', '1', '1000']\n"
     ]
    }
   ],
   "source": [
    "#Testing data\n",
    "txt\n",
    "inventory = txt.split('\\n')\n",
    "len(inventory)\n",
    "for productDetails in inventory:\n",
    "    print(productDetails.split(','))"
   ]
  },
  {
   "cell_type": "markdown",
   "id": "90979a5c",
   "metadata": {},
   "source": [
    "# Details\n",
    "1. At index 0 : Product ID\n",
    "2. At index 1 : Product Name\n",
    "3. At index 2 : Price of Product\n",
    "4. At index 3 : Quantity"
   ]
  },
  {
   "cell_type": "markdown",
   "id": "f102877f",
   "metadata": {},
   "source": [
    "# Update the Inventory\n",
    "\n",
    "\n"
   ]
  },
  {
   "cell_type": "code",
   "execution_count": 21,
   "id": "fe766e5a",
   "metadata": {
    "scrolled": true
   },
   "outputs": [
    {
     "name": "stdout",
     "output_type": "stream",
     "text": [
      "Enter your name: C\n",
      "Enter your phone number: 13435\n",
      "Enter your mail ID: c@ya\n",
      "Enter product ID: 1\n",
      "Enter quantity: 500\n",
      "Sorry, we don't have the quatity you require\n",
      "We have only 100 of 5 Star\n",
      "Would you like to buy all of it\n",
      "Press Y/N: Y\n",
      "-----------------------------\n",
      "Product Name     :  5 Star\n",
      "Price            :  5\n",
      "Quantity         :  100\n",
      "-----------------------------\n",
      "Billing Amount   :  50000\n",
      "-----------------------------\n"
     ]
    }
   ],
   "source": [
    "#Updating the inventory every time purchase is made\n",
    "ui_userName = input(\"Enter your name: \")\n",
    "ui_phoneNumber = input(\"Enter your phone number: \")\n",
    "ui_mailId = input(\"Enter your mail ID: \")\n",
    "ui_prod_id = input(\"Enter product ID: \")\n",
    "ui_prod_qn = input(\"Enter quantity: \")\n",
    "\n",
    "updated_product_details = []\n",
    "for product in inventory:\n",
    "    \n",
    "    prod_details = product.split(',')\n",
    "    \n",
    "    if(prod_details[0] == ui_prod_id):\n",
    "  \n",
    "\n",
    "        if (int(ui_prod_qn) <= int(prod_details[3])):\n",
    "        \n",
    "            #Printing the Bill\n",
    "            print(\"-----------------------------\")\n",
    "            print(\"Product Name     : \", prod_details[1])\n",
    "            print(\"Price            : \", prod_details[2]) \n",
    "            print(\"Quantity         : \", ui_prod_qn) \n",
    "            print(\"-----------------------------\")\n",
    "            print(\"Billing Amount   : \", int(ui_prod_qn) * int(prod_details[2]))\n",
    "            print(\"-----------------------------\")\n",
    "\n",
    "            \n",
    "            \"\"\"\n",
    "            For some reason str() was giving Nonetype error\n",
    "            Could also be run using str(int(prod_details[3]) - int(ui_prod_qn))\n",
    "            \"\"\"\n",
    "            prod_details[3] = int(prod_details[3]) - int(ui_prod_qn)\n",
    "            prod_details[3] = \"{}\".format(prod_details[3]) \n",
    "            \n",
    "            #Saving the file another text file\n",
    "            fd = open(\"sales.txt\",'a')\n",
    "            \n",
    "            sales_details = ui_userName+' ,'+ui_phoneNumber+' ,'+ui_mailId+' ,'+prod_details[1]+' ,'+ui_prod_qn+' ,'+str(int(ui_prod_qn) * int(prod_details[2]))+' ,'+time.ctime()+\"\\n\"\n",
    "            \n",
    "            fd.write(sales_details)\n",
    "            fd.close()\n",
    "            \n",
    "        else:\n",
    "            #Incase quantity is not sufficient \n",
    "            print(\"Sorry, we don't have the quatity you require\")\n",
    "            print(\"We have only \"+ prod_details[3]+\" of \"+prod_details[1])\n",
    "            print(\"Would you like to buy all of it\")\n",
    "            ch = input(\"Press Y/N: \")\n",
    "            \n",
    "            if(ch == 'Y' or ch== 'y'):\n",
    "                print(\"-----------------------------\")\n",
    "                print(\"Product Name     : \", prod_details[1])\n",
    "                print(\"Price            : \", prod_details[2]) \n",
    "                print(\"Quantity         : \", prod_details[3]) \n",
    "                print(\"-----------------------------\")\n",
    "                print(\"Billing Amount   : \", int(prod_details[2]) * int(prod_details[3]))\n",
    "                print(\"-----------------------------\")\n",
    "                \n",
    "                fd = open(\"sales.txt\",'a')\n",
    "            \n",
    "                sales_details = ui_userName+' ,'+ui_phoneNumber+' ,'+ui_mailId+' ,'+prod_details[1]+' ,'+ui_prod_qn+' ,'+str(int(prod_details[3]) * int(prod_details[2]))+' ,'+time.ctime()+\"\\n\"\n",
    "            \n",
    "                fd.write(sales_details)\n",
    "                fd.close()\n",
    "                \n",
    "                prod_details[3] = \"0\"\n",
    "            elif(ch== 'N' or ch == 'n'):\n",
    "                print(\"Thankyou for shopping with us\")\n",
    "            else:\n",
    "                print(\"Wrong Input\")\n",
    "                \n",
    "        \n",
    "    updated_product_details.append(prod_details)\n",
    "\n"
   ]
  },
  {
   "cell_type": "code",
   "execution_count": 22,
   "id": "e4c05b2b",
   "metadata": {},
   "outputs": [],
   "source": [
    "# Changing the quatity in the original file.\n",
    "fd = open(\"Inventory.txt\",'w')\n",
    "lst = []\n",
    "for i in updated_product_details:\n",
    "    prod = i[0] +\",\"+ i[1] +\",\"+ i[2] +\",\"+ i[3]+ '\\n'\n",
    "    lst.append(prod)\n",
    "lst[-1] = lst[-1][:-1]\n",
    "for i in lst:\n",
    "    fd.write(i)\n",
    "fd.close()"
   ]
  },
  {
   "cell_type": "code",
   "execution_count": null,
   "id": "2aac9abf",
   "metadata": {},
   "outputs": [],
   "source": []
  }
 ],
 "metadata": {
  "kernelspec": {
   "display_name": "Python 3 (ipykernel)",
   "language": "python",
   "name": "python3"
  },
  "language_info": {
   "codemirror_mode": {
    "name": "ipython",
    "version": 3
   },
   "file_extension": ".py",
   "mimetype": "text/x-python",
   "name": "python",
   "nbconvert_exporter": "python",
   "pygments_lexer": "ipython3",
   "version": "3.10.9"
  }
 },
 "nbformat": 4,
 "nbformat_minor": 5
}
